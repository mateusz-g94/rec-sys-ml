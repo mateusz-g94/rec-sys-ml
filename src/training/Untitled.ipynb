{
 "cells": [
  {
   "cell_type": "code",
   "execution_count": 225,
   "id": "662f2278",
   "metadata": {},
   "outputs": [],
   "source": [
    "import matplotlib.pyplot as plt\n",
    "from retrieval import MovielensModel\n",
    "import numpy as np\n",
    "import tensorflow as tf\n",
    "plt.style.use('seaborn-whitegrid')\n",
    "from keras.utils.vis_utils import plot_model"
   ]
  },
  {
   "cell_type": "code",
   "execution_count": 167,
   "id": "337a98d6",
   "metadata": {},
   "outputs": [],
   "source": [
    "import pandas as pd"
   ]
  },
  {
   "cell_type": "code",
   "execution_count": 168,
   "id": "34dea76a",
   "metadata": {},
   "outputs": [],
   "source": [
    "from collections import OrderedDict"
   ]
  },
  {
   "cell_type": "code",
   "execution_count": 204,
   "id": "dc6678c2",
   "metadata": {},
   "outputs": [],
   "source": [
    "ratings_train = tf.data.experimental.CsvDataset('../datasets/v5/ratings_train.csv',\n",
    "                                                header = True,\n",
    "                                                record_defaults = [tf.string, tf.string, tf.float32])\\\n",
    "                                                    .map(lambda x1, x2, x3: OrderedDict({'user_id' : x1, 'movie_title' :x2}))\n",
    "\n",
    "ratings_test = tf.data.experimental.CsvDataset('../datasets/v5/ratings_test.csv',\n",
    "                                                header = True,\n",
    "                                                record_defaults = [tf.string, tf.string, tf.float32])\\\n",
    "                                                    .map(lambda x1, x2, x3: OrderedDict({'user_id' : x1, 'movie_title' :x2}))\n",
    "\n",
    "ratings_valid = tf.data.experimental.CsvDataset('../datasets/v5/ratings_valid.csv',\n",
    "                                                header = True,\n",
    "                                                record_defaults = [tf.string, tf.string, tf.float32])\\\n",
    "                                                    .map(lambda x1, x2, x3: OrderedDict({'user_id' : x1, 'movie_title' :x2}))\n",
    "\n",
    "movies = tf.data.experimental.CsvDataset('../datasets/v5/movies.csv',\n",
    "                                         header = True,\n",
    "                                         record_defaults = [tf.int32, tf.int32, tf.int32, tf.int32, tf.int32, tf.string, tf.string])\\\n",
    "                                            .map(lambda x1, x2, x3, x4, x5, x6, x7: OrderedDict({'movie_title' : x6}))\n"
   ]
  },
  {
   "cell_type": "code",
   "execution_count": 206,
   "id": "92934302",
   "metadata": {},
   "outputs": [],
   "source": [
    "unique_movie_titles = np.unique(np.concatenate(list(movies.map(lambda x: x['movie_title']).batch(1000))))"
   ]
  },
  {
   "cell_type": "code",
   "execution_count": 207,
   "id": "d718d3ae",
   "metadata": {},
   "outputs": [
    {
     "data": {
      "text/plain": [
       "(27262,)"
      ]
     },
     "execution_count": 207,
     "metadata": {},
     "output_type": "execute_result"
    }
   ],
   "source": [
    "unique_movie_titles.shape"
   ]
  },
  {
   "cell_type": "code",
   "execution_count": 208,
   "id": "c87ef17d",
   "metadata": {},
   "outputs": [],
   "source": [
    "unique_user_ids = np.unique(np.concatenate(list(ratings_train.map(lambda x: x[\"user_id\"]).batch(1000))))"
   ]
  },
  {
   "cell_type": "code",
   "execution_count": 209,
   "id": "843a572d",
   "metadata": {},
   "outputs": [
    {
     "data": {
      "text/plain": [
       "b'100016'"
      ]
     },
     "execution_count": 209,
     "metadata": {},
     "output_type": "execute_result"
    }
   ],
   "source": [
    "unique_user_ids[0]"
   ]
  },
  {
   "cell_type": "code",
   "execution_count": 210,
   "id": "b60417e5",
   "metadata": {},
   "outputs": [
    {
     "data": {
      "text/plain": [
       "6925"
      ]
     },
     "execution_count": 210,
     "metadata": {},
     "output_type": "execute_result"
    }
   ],
   "source": [
    "len(unique_user_ids)"
   ]
  },
  {
   "cell_type": "code",
   "execution_count": 211,
   "id": "b8e7ff0b",
   "metadata": {},
   "outputs": [],
   "source": [
    "ratings_train_cached = ratings_train.shuffle(100000).batch(2048).cache()\n",
    "ratings_test_cached = ratings_test.batch(4096).cache()"
   ]
  },
  {
   "cell_type": "code",
   "execution_count": 244,
   "id": "16e77ce5",
   "metadata": {},
   "outputs": [],
   "source": [
    "model = MovielensModel([16, 8], movies.map(lambda x: x['movie_title']), unique_user_ids, unique_movie_titles)\n",
    "model.compile(optimizer=tf.keras.optimizers.Adam())"
   ]
  },
  {
   "cell_type": "code",
   "execution_count": 245,
   "id": "0c91652f",
   "metadata": {},
   "outputs": [],
   "source": [
    "import datetime"
   ]
  },
  {
   "cell_type": "code",
   "execution_count": 249,
   "id": "d04d513d",
   "metadata": {},
   "outputs": [],
   "source": [
    "log_dir = \"logs/fit/\" + datetime.datetime.now().strftime(\"%Y%m%d-%H%M%S\")\n",
    "tensorboard_callback = tf.keras.callbacks.TensorBoard(log_dir=log_dir, histogram_freq=5)"
   ]
  },
  {
   "cell_type": "code",
   "execution_count": 250,
   "id": "62ee7a94",
   "metadata": {},
   "outputs": [],
   "source": [
    "num_epochs = 10"
   ]
  },
  {
   "cell_type": "code",
   "execution_count": 251,
   "id": "8901b66e",
   "metadata": {},
   "outputs": [
    {
     "name": "stdout",
     "output_type": "stream",
     "text": [
      "Epoch 1/10\n",
      "    478/Unknown - 23s 49ms/step - factorized_top_k/top_1_categorical_accuracy: 0.0000e+00 - factorized_top_k/top_5_categorical_accuracy: 0.0000e+00 - factorized_top_k/top_10_categorical_accuracy: 0.0000e+00 - factorized_top_k/top_50_categorical_accuracy: 0.0000e+00 - factorized_top_k/top_100_categorical_accuracy: 0.0000e+00 - loss: 14991.7161 - regularization_loss: 0.0000e+00 - total_loss: 14991.7161"
     ]
    },
    {
     "ename": "AttributeError",
     "evalue": "'VocabWeightHandler' object has no attribute 'name'",
     "output_type": "error",
     "traceback": [
      "\u001b[0;31m---------------------------------------------------------------------------\u001b[0m",
      "\u001b[0;31mAttributeError\u001b[0m                            Traceback (most recent call last)",
      "\u001b[0;32m/tmp/ipykernel_32687/1868457253.py\u001b[0m in \u001b[0;36m<module>\u001b[0;34m\u001b[0m\n\u001b[0;32m----> 1\u001b[0;31m two_layer_history = model.fit(\n\u001b[0m\u001b[1;32m      2\u001b[0m     \u001b[0mratings_train_cached\u001b[0m\u001b[0;34m,\u001b[0m\u001b[0;34m\u001b[0m\u001b[0;34m\u001b[0m\u001b[0m\n\u001b[1;32m      3\u001b[0m     \u001b[0mvalidation_data\u001b[0m\u001b[0;34m=\u001b[0m\u001b[0mratings_test_cached\u001b[0m\u001b[0;34m,\u001b[0m\u001b[0;34m\u001b[0m\u001b[0;34m\u001b[0m\u001b[0m\n\u001b[1;32m      4\u001b[0m     \u001b[0mvalidation_freq\u001b[0m\u001b[0;34m=\u001b[0m\u001b[0;36m5\u001b[0m\u001b[0;34m,\u001b[0m\u001b[0;34m\u001b[0m\u001b[0;34m\u001b[0m\u001b[0m\n\u001b[1;32m      5\u001b[0m     \u001b[0mepochs\u001b[0m\u001b[0;34m=\u001b[0m\u001b[0mnum_epochs\u001b[0m\u001b[0;34m,\u001b[0m\u001b[0;34m\u001b[0m\u001b[0;34m\u001b[0m\u001b[0m\n",
      "\u001b[0;32m~/anaconda3/lib/python3.9/site-packages/keras/utils/traceback_utils.py\u001b[0m in \u001b[0;36merror_handler\u001b[0;34m(*args, **kwargs)\u001b[0m\n\u001b[1;32m     65\u001b[0m     \u001b[0;32mexcept\u001b[0m \u001b[0mException\u001b[0m \u001b[0;32mas\u001b[0m \u001b[0me\u001b[0m\u001b[0;34m:\u001b[0m  \u001b[0;31m# pylint: disable=broad-except\u001b[0m\u001b[0;34m\u001b[0m\u001b[0;34m\u001b[0m\u001b[0m\n\u001b[1;32m     66\u001b[0m       \u001b[0mfiltered_tb\u001b[0m \u001b[0;34m=\u001b[0m \u001b[0m_process_traceback_frames\u001b[0m\u001b[0;34m(\u001b[0m\u001b[0me\u001b[0m\u001b[0;34m.\u001b[0m\u001b[0m__traceback__\u001b[0m\u001b[0;34m)\u001b[0m\u001b[0;34m\u001b[0m\u001b[0;34m\u001b[0m\u001b[0m\n\u001b[0;32m---> 67\u001b[0;31m       \u001b[0;32mraise\u001b[0m \u001b[0me\u001b[0m\u001b[0;34m.\u001b[0m\u001b[0mwith_traceback\u001b[0m\u001b[0;34m(\u001b[0m\u001b[0mfiltered_tb\u001b[0m\u001b[0;34m)\u001b[0m \u001b[0;32mfrom\u001b[0m \u001b[0;32mNone\u001b[0m\u001b[0;34m\u001b[0m\u001b[0;34m\u001b[0m\u001b[0m\n\u001b[0m\u001b[1;32m     68\u001b[0m     \u001b[0;32mfinally\u001b[0m\u001b[0;34m:\u001b[0m\u001b[0;34m\u001b[0m\u001b[0;34m\u001b[0m\u001b[0m\n\u001b[1;32m     69\u001b[0m       \u001b[0;32mdel\u001b[0m \u001b[0mfiltered_tb\u001b[0m\u001b[0;34m\u001b[0m\u001b[0;34m\u001b[0m\u001b[0m\n",
      "\u001b[0;32m~/anaconda3/lib/python3.9/site-packages/keras/callbacks.py\u001b[0m in \u001b[0;36m_log_weights\u001b[0;34m(self, epoch)\u001b[0m\n\u001b[1;32m   2571\u001b[0m         \u001b[0;32mfor\u001b[0m \u001b[0mlayer\u001b[0m \u001b[0;32min\u001b[0m \u001b[0mself\u001b[0m\u001b[0;34m.\u001b[0m\u001b[0mmodel\u001b[0m\u001b[0;34m.\u001b[0m\u001b[0mlayers\u001b[0m\u001b[0;34m:\u001b[0m\u001b[0;34m\u001b[0m\u001b[0;34m\u001b[0m\u001b[0m\n\u001b[1;32m   2572\u001b[0m           \u001b[0;32mfor\u001b[0m \u001b[0mweight\u001b[0m \u001b[0;32min\u001b[0m \u001b[0mlayer\u001b[0m\u001b[0;34m.\u001b[0m\u001b[0mweights\u001b[0m\u001b[0;34m:\u001b[0m\u001b[0;34m\u001b[0m\u001b[0;34m\u001b[0m\u001b[0m\n\u001b[0;32m-> 2573\u001b[0;31m             \u001b[0mweight_name\u001b[0m \u001b[0;34m=\u001b[0m \u001b[0mweight\u001b[0m\u001b[0;34m.\u001b[0m\u001b[0mname\u001b[0m\u001b[0;34m.\u001b[0m\u001b[0mreplace\u001b[0m\u001b[0;34m(\u001b[0m\u001b[0;34m':'\u001b[0m\u001b[0;34m,\u001b[0m \u001b[0;34m'_'\u001b[0m\u001b[0;34m)\u001b[0m\u001b[0;34m\u001b[0m\u001b[0;34m\u001b[0m\u001b[0m\n\u001b[0m\u001b[1;32m   2574\u001b[0m             \u001b[0mtf\u001b[0m\u001b[0;34m.\u001b[0m\u001b[0msummary\u001b[0m\u001b[0;34m.\u001b[0m\u001b[0mhistogram\u001b[0m\u001b[0;34m(\u001b[0m\u001b[0mweight_name\u001b[0m\u001b[0;34m,\u001b[0m \u001b[0mweight\u001b[0m\u001b[0;34m,\u001b[0m \u001b[0mstep\u001b[0m\u001b[0;34m=\u001b[0m\u001b[0mepoch\u001b[0m\u001b[0;34m)\u001b[0m\u001b[0;34m\u001b[0m\u001b[0;34m\u001b[0m\u001b[0m\n\u001b[1;32m   2575\u001b[0m             \u001b[0;32mif\u001b[0m \u001b[0mself\u001b[0m\u001b[0;34m.\u001b[0m\u001b[0mwrite_images\u001b[0m\u001b[0;34m:\u001b[0m\u001b[0;34m\u001b[0m\u001b[0;34m\u001b[0m\u001b[0m\n",
      "\u001b[0;31mAttributeError\u001b[0m: 'VocabWeightHandler' object has no attribute 'name'"
     ]
    }
   ],
   "source": [
    "two_layer_history = model.fit(\n",
    "    ratings_train_cached,\n",
    "    validation_data=ratings_test_cached,\n",
    "    validation_freq=5,\n",
    "    epochs=num_epochs,\n",
    "    verbose=1,\n",
    "          callbacks=[tensorboard_callback])"
   ]
  },
  {
   "cell_type": "code",
   "execution_count": 223,
   "id": "97155b3f",
   "metadata": {},
   "outputs": [
    {
     "name": "stdout",
     "output_type": "stream",
     "text": [
      "Top-100 accuracy: 0.15.\n"
     ]
    }
   ],
   "source": [
    "accuracy = two_layer_history.history[\"val_factorized_top_k/top_100_categorical_accuracy\"][-1]\n",
    "print(f\"Top-100 accuracy: {accuracy:.2f}.\")"
   ]
  },
  {
   "cell_type": "code",
   "execution_count": 253,
   "id": "d26baaea",
   "metadata": {},
   "outputs": [
    {
     "data": {
      "text/plain": [
       "{'factorized_top_k/top_1_categorical_accuracy': [0.0,\n",
       "  0.0,\n",
       "  0.0,\n",
       "  0.0,\n",
       "  0.0,\n",
       "  0.0,\n",
       "  0.0,\n",
       "  0.0,\n",
       "  0.0,\n",
       "  0.0],\n",
       " 'factorized_top_k/top_5_categorical_accuracy': [0.0,\n",
       "  0.0,\n",
       "  0.0,\n",
       "  0.0,\n",
       "  0.0,\n",
       "  0.0,\n",
       "  0.0,\n",
       "  0.0,\n",
       "  0.0,\n",
       "  0.0],\n",
       " 'factorized_top_k/top_10_categorical_accuracy': [0.0,\n",
       "  0.0,\n",
       "  0.0,\n",
       "  0.0,\n",
       "  0.0,\n",
       "  0.0,\n",
       "  0.0,\n",
       "  0.0,\n",
       "  0.0,\n",
       "  0.0],\n",
       " 'factorized_top_k/top_50_categorical_accuracy': [0.0,\n",
       "  0.0,\n",
       "  0.0,\n",
       "  0.0,\n",
       "  0.0,\n",
       "  0.0,\n",
       "  0.0,\n",
       "  0.0,\n",
       "  0.0,\n",
       "  0.0],\n",
       " 'factorized_top_k/top_100_categorical_accuracy': [0.0,\n",
       "  0.0,\n",
       "  0.0,\n",
       "  0.0,\n",
       "  0.0,\n",
       "  0.0,\n",
       "  0.0,\n",
       "  0.0,\n",
       "  0.0,\n",
       "  0.0],\n",
       " 'loss': [7400.9580078125,\n",
       "  7285.525390625,\n",
       "  7196.15185546875,\n",
       "  7143.38232421875,\n",
       "  7081.58642578125,\n",
       "  6998.41650390625,\n",
       "  6931.2392578125,\n",
       "  6868.03076171875,\n",
       "  6807.6201171875,\n",
       "  6764.88623046875],\n",
       " 'regularization_loss': [0, 0, 0, 0, 0, 0, 0, 0, 0, 0],\n",
       " 'total_loss': [7400.9580078125,\n",
       "  7285.525390625,\n",
       "  7196.15185546875,\n",
       "  7143.38232421875,\n",
       "  7081.58642578125,\n",
       "  6998.41650390625,\n",
       "  6931.2392578125,\n",
       "  6868.03076171875,\n",
       "  6807.6201171875,\n",
       "  6764.88623046875],\n",
       " 'val_factorized_top_k/top_1_categorical_accuracy': [0.0003850596840493381,\n",
       "  0.0007701193680986762],\n",
       " 'val_factorized_top_k/top_5_categorical_accuracy': [0.0044281864538788795,\n",
       "  0.006931074429303408],\n",
       " 'val_factorized_top_k/top_10_categorical_accuracy': [0.010396611876785755,\n",
       "  0.016942625865340233],\n",
       " 'val_factorized_top_k/top_50_categorical_accuracy': [0.04659222066402435,\n",
       "  0.07604929059743881],\n",
       " 'val_factorized_top_k/top_100_categorical_accuracy': [0.09587986022233963,\n",
       "  0.14574508368968964],\n",
       " 'val_loss': [6848.59228515625, 6807.3798828125],\n",
       " 'val_regularization_loss': [0, 0],\n",
       " 'val_total_loss': [6848.59228515625, 6807.3798828125]}"
      ]
     },
     "execution_count": 253,
     "metadata": {},
     "output_type": "execute_result"
    }
   ],
   "source": [
    "two_layer_history.history"
   ]
  },
  {
   "cell_type": "code",
   "execution_count": 232,
   "id": "f822c8e1",
   "metadata": {},
   "outputs": [
    {
     "ename": "NotImplementedError",
     "evalue": "Exception encountered when calling layer \"movielens_model_2\" (type MovielensModel).\n\nUnimplemented `tf.keras.Model.call()`: if you intend to create a `Model` with the Functional API, please provide `inputs` and `outputs` arguments. Otherwise, subclass `Model` with an overridden `call()` method.\n\nCall arguments received:\n  • inputs=<CacheDataset element_spec=OrderedDict([('user_id', TensorSpec(shape=(None,), dtype=tf.string, name=None)), ('movie_title', TensorSpec(shape=(None,), dtype=tf.string, name=None))])>\n  • training=None\n  • mask=None",
     "output_type": "error",
     "traceback": [
      "\u001b[0;31m---------------------------------------------------------------------------\u001b[0m",
      "\u001b[0;31mNotImplementedError\u001b[0m                       Traceback (most recent call last)",
      "\u001b[0;32m/tmp/ipykernel_32687/4228280360.py\u001b[0m in \u001b[0;36m<module>\u001b[0;34m\u001b[0m\n\u001b[0;32m----> 1\u001b[0;31m \u001b[0mmodel\u001b[0m\u001b[0;34m(\u001b[0m\u001b[0mratings_test_cached\u001b[0m\u001b[0;34m,\u001b[0m\u001b[0;34m)\u001b[0m\u001b[0;34m\u001b[0m\u001b[0;34m\u001b[0m\u001b[0m\n\u001b[0m\u001b[1;32m      2\u001b[0m \u001b[0;34m\u001b[0m\u001b[0m\n\u001b[1;32m      3\u001b[0m \u001b[0;34m\u001b[0m\u001b[0m\n\u001b[1;32m      4\u001b[0m \u001b[0;34m\u001b[0m\u001b[0m\n\u001b[1;32m      5\u001b[0m \u001b[0;34m\u001b[0m\u001b[0m\n",
      "\u001b[0;32m~/anaconda3/lib/python3.9/site-packages/keras/utils/traceback_utils.py\u001b[0m in \u001b[0;36merror_handler\u001b[0;34m(*args, **kwargs)\u001b[0m\n\u001b[1;32m     65\u001b[0m     \u001b[0;32mexcept\u001b[0m \u001b[0mException\u001b[0m \u001b[0;32mas\u001b[0m \u001b[0me\u001b[0m\u001b[0;34m:\u001b[0m  \u001b[0;31m# pylint: disable=broad-except\u001b[0m\u001b[0;34m\u001b[0m\u001b[0;34m\u001b[0m\u001b[0m\n\u001b[1;32m     66\u001b[0m       \u001b[0mfiltered_tb\u001b[0m \u001b[0;34m=\u001b[0m \u001b[0m_process_traceback_frames\u001b[0m\u001b[0;34m(\u001b[0m\u001b[0me\u001b[0m\u001b[0;34m.\u001b[0m\u001b[0m__traceback__\u001b[0m\u001b[0;34m)\u001b[0m\u001b[0;34m\u001b[0m\u001b[0;34m\u001b[0m\u001b[0m\n\u001b[0;32m---> 67\u001b[0;31m       \u001b[0;32mraise\u001b[0m \u001b[0me\u001b[0m\u001b[0;34m.\u001b[0m\u001b[0mwith_traceback\u001b[0m\u001b[0;34m(\u001b[0m\u001b[0mfiltered_tb\u001b[0m\u001b[0;34m)\u001b[0m \u001b[0;32mfrom\u001b[0m \u001b[0;32mNone\u001b[0m\u001b[0;34m\u001b[0m\u001b[0;34m\u001b[0m\u001b[0m\n\u001b[0m\u001b[1;32m     68\u001b[0m     \u001b[0;32mfinally\u001b[0m\u001b[0;34m:\u001b[0m\u001b[0;34m\u001b[0m\u001b[0;34m\u001b[0m\u001b[0m\n\u001b[1;32m     69\u001b[0m       \u001b[0;32mdel\u001b[0m \u001b[0mfiltered_tb\u001b[0m\u001b[0;34m\u001b[0m\u001b[0;34m\u001b[0m\u001b[0m\n",
      "\u001b[0;32m~/anaconda3/lib/python3.9/site-packages/keras/engine/training.py\u001b[0m in \u001b[0;36mcall\u001b[0;34m(self, inputs, training, mask)\u001b[0m\n\u001b[1;32m    473\u001b[0m         \u001b[0ma\u001b[0m \u001b[0mlist\u001b[0m \u001b[0mof\u001b[0m \u001b[0mtensors\u001b[0m \u001b[0;32mif\u001b[0m \u001b[0mthere\u001b[0m \u001b[0mare\u001b[0m \u001b[0mmore\u001b[0m \u001b[0mthan\u001b[0m \u001b[0mone\u001b[0m \u001b[0moutputs\u001b[0m\u001b[0;34m.\u001b[0m\u001b[0;34m\u001b[0m\u001b[0;34m\u001b[0m\u001b[0m\n\u001b[1;32m    474\u001b[0m     \"\"\"\n\u001b[0;32m--> 475\u001b[0;31m     raise NotImplementedError('Unimplemented `tf.keras.Model.call()`: if you '\n\u001b[0m\u001b[1;32m    476\u001b[0m                               \u001b[0;34m'intend to create a `Model` with the Functional '\u001b[0m\u001b[0;34m\u001b[0m\u001b[0;34m\u001b[0m\u001b[0m\n\u001b[1;32m    477\u001b[0m                               \u001b[0;34m'API, please provide `inputs` and `outputs` '\u001b[0m\u001b[0;34m\u001b[0m\u001b[0;34m\u001b[0m\u001b[0m\n",
      "\u001b[0;31mNotImplementedError\u001b[0m: Exception encountered when calling layer \"movielens_model_2\" (type MovielensModel).\n\nUnimplemented `tf.keras.Model.call()`: if you intend to create a `Model` with the Functional API, please provide `inputs` and `outputs` arguments. Otherwise, subclass `Model` with an overridden `call()` method.\n\nCall arguments received:\n  • inputs=<CacheDataset element_spec=OrderedDict([('user_id', TensorSpec(shape=(None,), dtype=tf.string, name=None)), ('movie_title', TensorSpec(shape=(None,), dtype=tf.string, name=None))])>\n  • training=None\n  • mask=None"
     ]
    }
   ],
   "source": [
    "model(ratings_test_cached,)\n",
    "\n",
    "\n",
    "\n",
    "\n",
    "\n",
    "\n",
    "\n",
    "\n"
   ]
  },
  {
   "cell_type": "code",
   "execution_count": null,
   "id": "93b2a957",
   "metadata": {},
   "outputs": [],
   "source": [
    "m2 = tf.saved_model.load('/content/drive/MyDrive/models/model_ret_pkl')"
   ]
  }
 ],
 "metadata": {
  "kernelspec": {
   "display_name": "Python 3 (ipykernel)",
   "language": "python",
   "name": "python3"
  },
  "language_info": {
   "codemirror_mode": {
    "name": "ipython",
    "version": 3
   },
   "file_extension": ".py",
   "mimetype": "text/x-python",
   "name": "python",
   "nbconvert_exporter": "python",
   "pygments_lexer": "ipython3",
   "version": "3.9.7"
  }
 },
 "nbformat": 4,
 "nbformat_minor": 5
}
